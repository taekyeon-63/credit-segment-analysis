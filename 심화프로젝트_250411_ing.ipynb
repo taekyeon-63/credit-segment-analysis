{
 "cells": [
  {
   "cell_type": "code",
   "execution_count": 118,
   "id": "65b87574-5d80-47da-a978-76602aa38151",
   "metadata": {},
   "outputs": [],
   "source": [
    "import pandas as pd\n",
    "merged_df = pd.read_csv('C:/Users/tnfus/Downloads/open/train/2018_train_정보_segment.csv', encoding='euc-kr')"
   ]
  },
  {
   "cell_type": "code",
   "execution_count": 2,
   "id": "4271535f-cc0e-4dfc-82b1-c30edca50bb1",
   "metadata": {},
   "outputs": [
    {
     "name": "stdout",
     "output_type": "stream",
     "text": [
      "\n",
      "[VotingClassifier 앙상블 평가 결과]\n",
      "정확도: 80.08%\n",
      "분류 보고서:\n",
      "              precision    recall  f1-score   support\n",
      "\n",
      "           A       0.27      0.38      0.32        16\n",
      "           B       0.00      0.00      0.00         2\n",
      "           C       0.60      0.70      0.65      2127\n",
      "           D       0.41      0.75      0.53      5821\n",
      "           E       0.97      0.82      0.89     32034\n",
      "\n",
      "    accuracy                           0.80     40000\n",
      "   macro avg       0.45      0.53      0.48     40000\n",
      "weighted avg       0.87      0.80      0.82     40000\n",
      "\n",
      "클래스별 F1-score:\n",
      "A: 0.3158\n",
      "B: 0.0000\n",
      "C: 0.6454\n",
      "D: 0.5328\n",
      "E: 0.8877\n",
      "\n",
      "[트리 기반 모델 Feature Importance]\n"
     ]
    }
   ],
   "source": [
    "from xgboost import XGBClassifier\n",
    "from sklearn.model_selection import train_test_split\n",
    "from sklearn.preprocessing import LabelEncoder, StandardScaler\n",
    "from sklearn.metrics import accuracy_score, classification_report, f1_score\n",
    "from imblearn.combine import SMOTEENN\n",
    "from sklearn.ensemble import VotingClassifier, RandomForestClassifier\n",
    "from sklearn.linear_model import LogisticRegression\n",
    "import pandas as pd\n",
    "import numpy as np\n",
    "import matplotlib.pyplot as plt\n",
    "import matplotlib.font_manager as fm\n",
    "\n",
    "# 한글 폰트 설정\n",
    "plt.rcParams['font.family'] = 'Malgun Gothic'\n",
    "plt.rcParams['axes.unicode_minus'] = False  # 마이너스 기호 깨짐 방지\n",
    "\n",
    "# 1. 복사본 생성 + 결측치 제거\n",
    "df = merged_df.copy().dropna()\n",
    "\n",
    "# 2. LabelEncoder: Segment A~E 포함 전체에 대해 인코딩\n",
    "label_encoder = LabelEncoder()\n",
    "df['Segment'] = label_encoder.fit_transform(df['Segment'])\n",
    "\n",
    "# 3. 범주형 변수 인코딩\n",
    "categorical_cols = df.select_dtypes(include=['object', 'category']).columns\n",
    "for col in categorical_cols:\n",
    "    df[col] = LabelEncoder().fit_transform(df[col].astype(str))\n",
    "\n",
    "# 4. X, y 분리\n",
    "X = df.drop(columns=['Segment'])\n",
    "y = df['Segment']\n",
    "\n",
    "# 5. 수치형 스케일링\n",
    "numerical_cols = X.select_dtypes(include=['int64', 'float64']).columns\n",
    "scaler = StandardScaler(copy=False)\n",
    "X[numerical_cols] = scaler.fit_transform(X[numerical_cols])\n",
    "\n",
    "# 6. 훈련/테스트 분할\n",
    "X_train, X_test, y_train, y_test = train_test_split(\n",
    "    X, y, test_size=0.1, random_state=42, stratify=y\n",
    ")\n",
    "\n",
    "# 7. SMOTEENN 적용\n",
    "smote_enn = SMOTEENN(random_state=42)\n",
    "X_train_resampled, y_train_resampled = smote_enn.fit_resample(X_train, y_train)\n",
    "\n",
    "# 8. 모델 정의\n",
    "xgb_model = XGBClassifier(random_state=42, use_label_encoder=False, eval_metric='mlogloss', tree_method='hist')\n",
    "rf_model = RandomForestClassifier(n_estimators=100, random_state=42)\n",
    "lr_model = LogisticRegression(max_iter=1000)\n",
    "\n",
    "# 9. VotingClassifier 구성\n",
    "voting_model = VotingClassifier(\n",
    "    estimators=[\n",
    "        ('xgb', xgb_model),\n",
    "        ('rf', rf_model),\n",
    "        ('lr', lr_model)\n",
    "    ],\n",
    "    voting='soft',\n",
    "    n_jobs=-1\n",
    ")\n",
    "\n",
    "# 10. 학습 및 예측\n",
    "voting_model.fit(X_train_resampled, y_train_resampled)\n",
    "y_pred = voting_model.predict(X_test)\n",
    "y_test_labels = label_encoder.inverse_transform(y_test)\n",
    "y_pred_labels = label_encoder.inverse_transform(y_pred)\n",
    "\n",
    "# 11. 평가 결과 출력\n",
    "print(\"\\n[VotingClassifier 앙상블 평가 결과]\")\n",
    "print(f\"정확도: {accuracy_score(y_test_labels, y_pred_labels) * 100:.2f}%\")\n",
    "print(\"분류 보고서:\")\n",
    "print(classification_report(y_test_labels, y_pred_labels, zero_division=0))\n",
    "\n",
    "f1_per_class = f1_score(y_test_labels, y_pred_labels, average=None, zero_division=0)\n",
    "class_names = label_encoder.classes_\n",
    "print(\"클래스별 F1-score:\")\n",
    "for name, score in zip(class_names, f1_per_class):\n",
    "    print(f\"{name}: {score:.4f}\")\n",
    "\n",
    "# 12. 변수 중요도 시각화 (트리 기반 모델만)\n",
    "print(\"\\n[트리 기반 모델 Feature Importance]\")\n",
    "for name, model in [('XGBoost', xgb_model), ('RandomForest', rf_model)]:\n",
    "    if hasattr(model, 'feature_importances_'):\n",
    "        model.fit(X_train_resampled, y_train_resampled)\n",
    "        importances = model.feature_importances_\n",
    "        feature_importance = pd.DataFrame({'Feature': X.columns, 'Importance': importances})\n",
    "        feature_importance = feature_importance.sort_values(by='Importance', ascending=False)\n",
    "\n",
    "        plt.figure(figsize=(10, 6))\n",
    "        plt.barh(feature_importance['Feature'][:15], feature_importance['Importance'][:15])\n",
    "        plt.xlabel('Importance')\n",
    "        plt.ylabel('Feature')\n",
    "        plt.title(f'Feature Importance ({name})')\n",
    "        plt.gca().invert_yaxis()\n",
    "        plt.tight_layout()\n",
    "        plt.show()\n"
   ]
  },
  {
   "cell_type": "code",
   "execution_count": 119,
   "id": "80163fe0-3ec9-40b2-8189-3091c8514cb6",
   "metadata": {},
   "outputs": [
    {
     "name": "stderr",
     "output_type": "stream",
     "text": [
      "C:\\Users\\tnfus\\AppData\\Local\\Programs\\Python\\Python313\\Lib\\site-packages\\xgboost\\training.py:183: UserWarning: [10:51:39] WARNING: C:\\actions-runner\\_work\\xgboost\\xgboost\\src\\learner.cc:738: \n",
      "Parameters: { \"use_label_encoder\" } are not used.\n",
      "\n",
      "  bst.update(dtrain, iteration=i, fobj=obj)\n"
     ]
    },
    {
     "name": "stdout",
     "output_type": "stream",
     "text": [
      "\n",
      "[XGBoost 평가 결과 - 최적 하이퍼파라미터 적용 모델]\n",
      "정확도: 82.45%\n",
      "분류 보고서:\n",
      "              precision    recall  f1-score   support\n",
      "\n",
      "           A       0.39      0.34      0.37        32\n",
      "           B       0.00      0.00      0.00         5\n",
      "           C       0.60      0.68      0.64      4253\n",
      "           D       0.46      0.73      0.56     11642\n",
      "           E       0.96      0.85      0.91     64068\n",
      "\n",
      "    accuracy                           0.82     80000\n",
      "   macro avg       0.48      0.52      0.49     80000\n",
      "weighted avg       0.87      0.82      0.84     80000\n",
      "\n",
      "클래스별 F1-score:\n",
      "A: 0.3667\n",
      "B: 0.0000\n",
      "C: 0.6355\n",
      "D: 0.5593\n",
      "E: 0.9052\n"
     ]
    },
    {
     "data": {
      "image/png": "[encoded data removed]",
      "text/plain": [
       "<Figure size 1000x600 with 1 Axes>"
      ]
     },
     "metadata": {},
     "output_type": "display_data"
    }
   ],
   "source": [
    "from xgboost import XGBClassifier\n",
    "from sklearn.model_selection import train_test_split\n",
    "from sklearn.preprocessing import LabelEncoder, StandardScaler\n",
    "from sklearn.metrics import accuracy_score, classification_report, f1_score\n",
    "from imblearn.combine import SMOTEENN\n",
    "import pandas as pd\n",
    "import numpy as np\n",
    "import matplotlib.pyplot as plt\n",
    "\n",
    "# 1. 복사본 생성 + 결측치 제거\n",
    "df = merged_df.copy().dropna()\n",
    "\n",
    "# 2. LabelEncoder: Segment A~E 포함 전체에 대해 인코딩\n",
    "label_encoder = LabelEncoder()\n",
    "df['Segment'] = label_encoder.fit_transform(df['Segment'])\n",
    "\n",
    "# 3. 범주형 변수 인코딩\n",
    "categorical_cols = df.select_dtypes(include=['object', 'category']).columns\n",
    "for col in categorical_cols:\n",
    "    df[col] = LabelEncoder().fit_transform(df[col].astype(str))\n",
    "\n",
    "# 4. X, y 분리\n",
    "X = df.drop(columns=['Segment'])\n",
    "y = df['Segment']\n",
    "\n",
    "# 5. 수치형 스케일링\n",
    "numerical_cols = X.select_dtypes(include=['int64', 'float64']).columns\n",
    "scaler = StandardScaler(copy=False)\n",
    "X[numerical_cols] = scaler.fit_transform(X[numerical_cols])\n",
    "\n",
    "# 6. 훈련/테스트 분할\n",
    "X_train, X_test, y_train, y_test = train_test_split(\n",
    "    X, y, test_size=0.2, random_state=42, stratify=y\n",
    ")\n",
    "\n",
    "# 7. SMOTEENN 적용\n",
    "smote_enn = SMOTEENN(random_state=42)\n",
    "X_train_resampled, y_train_resampled = smote_enn.fit_resample(X_train, y_train)\n",
    "\n",
    "# 8. 최적 하이퍼파라미터로 모델 정의\n",
    "best_model = XGBClassifier(\n",
    "    random_state=42,\n",
    "    use_label_encoder=False,\n",
    "    eval_metric='mlogloss',\n",
    "    tree_method='hist',\n",
    "    colsample_bytree=1.0,\n",
    "    learning_rate=0.2,\n",
    "    max_depth=6,\n",
    "    n_estimators=200,\n",
    "    subsample=0.8\n",
    ")\n",
    "\n",
    "best_model.fit(X_train_resampled, y_train_resampled)\n",
    "\n",
    "# 9. 예측 및 평가\n",
    "y_pred = best_model.predict(X_test)\n",
    "y_test_labels = label_encoder.inverse_transform(y_test)\n",
    "y_pred_labels = label_encoder.inverse_transform(y_pred)\n",
    "\n",
    "print(\"\\n[XGBoost 평가 결과 - 최적 하이퍼파라미터 적용 모델]\")\n",
    "print(f\"정확도: {accuracy_score(y_test_labels, y_pred_labels) * 100:.2f}%\")\n",
    "print(\"분류 보고서:\")\n",
    "print(classification_report(y_test_labels, y_pred_labels, zero_division=0))\n",
    "\n",
    "f1_per_class = f1_score(y_test_labels, y_pred_labels, average=None, zero_division=0)\n",
    "class_names = label_encoder.classes_\n",
    "print(\"클래스별 F1-score:\")\n",
    "for name, score in zip(class_names, f1_per_class):\n",
    "    print(f\"{name}: {score:.4f}\")\n",
    "\n",
    "# 10. 변수 중요도 시각화\n",
    "importances = best_model.feature_importances_\n",
    "feature_importance = pd.DataFrame({'Feature': X.columns, 'Importance': importances})\n",
    "feature_importance = feature_importance.sort_values(by='Importance', ascending=False)\n",
    "\n",
    "plt.figure(figsize=(10, 6))\n",
    "plt.barh(feature_importance['Feature'][:15], feature_importance['Importance'][:15])\n",
    "plt.xlabel('Importance')\n",
    "plt.ylabel('Feature')\n",
    "plt.title('Feature Importance (XGBoost - Best Params)')\n",
    "plt.gca().invert_yaxis()\n",
    "plt.tight_layout()\n",
    "plt.show()"
   ]
  },
  {
   "cell_type": "code",
   "execution_count": 3,
   "id": "d96d5da8-f0fb-4dcd-8e59-e4f04d000308",
   "metadata": {},
   "outputs": [
    {
     "data": {
      "image/png": "[encoded data removed]",
      "text/plain": [
       "<Figure size 1000x600 with 1 Axes>"
      ]
     },
     "metadata": {},
     "output_type": "display_data"
    }
   ],
   "source": [
    "# 한글 폰트 설정\n",
    "plt.rcParams['font.family'] = 'Malgun Gothic'\n",
    "plt.rcParams['axes.unicode_minus'] = False  # 마이너스 기호 깨짐 방지\n",
    "\n",
    "# 10. 변수 중요도 시각화\n",
    "importances = best_model.feature_importances_\n",
    "feature_importance = pd.DataFrame({'Feature': X.columns, 'Importance': importances})\n",
    "feature_importance = feature_importance.sort_values(by='Importance', ascending=False)\n",
    "\n",
    "plt.figure(figsize=(10, 6))\n",
    "plt.barh(feature_importance['Feature'][:15], feature_importance['Importance'][:15])\n",
    "plt.xlabel('Importance')\n",
    "plt.ylabel('Feature')\n",
    "plt.title('Feature Importance (XGBoost - Best Params)')\n",
    "plt.gca().invert_yaxis()\n",
    "plt.tight_layout()\n",
    "plt.show()"
   ]
  },
  {
   "cell_type": "code",
   "execution_count": 40,
   "id": "57ac5ff1-c843-4004-b7a3-8e705d3c9ec6",
   "metadata": {},
   "outputs": [
    {
     "name": "stdout",
     "output_type": "stream",
     "text": [
      "최종 선택된 변수 목록:\n",
      "['카드이용한도금액_B1M_mean', '이용금액_할부_무이자_R12M_last', '카드이용한도금액_B1M_last', '정상청구원금_B5M_mean', '여유_항공이용금액_last', '정상청구원금_B5M_last', '이용가능카드수_체크_std', '카드이용한도금액_mean', '증감율_이용금액_체크_전월_std', '이용카드수_체크_last', '증감율_이용금액_체크_전월_mean', '변동률_RV일시불평잔_last', '입회일자_신용_mean', '강제한도감액횟수_R12M_mean', '청구금액_R6M_std']\n"
     ]
    },
    {
     "name": "stderr",
     "output_type": "stream",
     "text": [
      "C:\\Users\\Public\\Documents\\ESTsoft\\CreatorTemp\\ipykernel_10396\\3926002553.py:5: SettingWithCopyWarning: \n",
      "A value is trying to be set on a copy of a slice from a DataFrame.\n",
      "Try using .loc[row_indexer,col_indexer] = value instead\n",
      "\n",
      "See the caveats in the documentation: https://pandas.pydata.org/pandas-docs/stable/user_guide/indexing.html#returning-a-view-versus-a-copy\n",
      "  filtered_features['Cumulative'] = filtered_features['Importance'].cumsum()\n"
     ]
    }
   ],
   "source": [
    "# 변수 중요도 0.01 이상으로 1차 필터링\n",
    "filtered_features = feature_importance[feature_importance['Importance'] >= 0.01]\n",
    "\n",
    "# 누적 중요도 95% 이하로 2차 필터링\n",
    "filtered_features['Cumulative'] = filtered_features['Importance'].cumsum()\n",
    "selected_features = filtered_features[filtered_features['Cumulative'] <= 0.95]['Feature'].tolist()\n",
    "\n",
    "print(\"최종 선택된 변수 목록:\")\n",
    "print(selected_features)"
   ]
  },
  {
   "cell_type": "code",
   "execution_count": 46,
   "id": "5ca3215f-7e54-4ca3-9c4b-630be975be5d",
   "metadata": {},
   "outputs": [
    {
     "name": "stdout",
     "output_type": "stream",
     "text": [
      "F1-score (Macro Average): 0.4934\n",
      "F1-score (Weighted Average): 0.8403\n",
      "클래스별 F1-score:\n",
      "Class 0: 0.3667\n",
      "Class 1: 0.0000\n",
      "Class 2: 0.6355\n",
      "Class 3: 0.5593\n",
      "Class 4: 0.9052\n"
     ]
    }
   ],
   "source": [
    "from sklearn.metrics import f1_score, precision_score, recall_score\n",
    "\n",
    "# 직접 계산한 F1-score (전체 평균)\n",
    "f1_macro = f1_score(y_test, y_pred, average='macro')\n",
    "f1_weighted = f1_score(y_test, y_pred, average='weighted')\n",
    "\n",
    "# 클래스별 F1-score\n",
    "f1_per_class = f1_score(y_test, y_pred, average=None)\n",
    "\n",
    "print(f\"F1-score (Macro Average): {f1_macro:.4f}\")\n",
    "print(f\"F1-score (Weighted Average): {f1_weighted:.4f}\")\n",
    "print(\"클래스별 F1-score:\")\n",
    "for idx, score in enumerate(f1_per_class):\n",
    "    print(f\"Class {idx}: {score:.4f}\")"
   ]
  },
  {
   "cell_type": "code",
   "execution_count": null,
   "id": "ad55967f-2b1d-4715-9d51-37ce60d7083d",
   "metadata": {},
   "outputs": [],
   "source": []
  },
  {
   "cell_type": "code",
   "execution_count": null,
   "id": "3806ab3a-0bdd-48d0-8764-c2cf26ccf4da",
   "metadata": {},
   "outputs": [],
   "source": []
  },
  {
   "cell_type": "code",
   "execution_count": null,
   "id": "c9d75615-3aac-45e1-a0c2-3cd9e3a9a57a",
   "metadata": {},
   "outputs": [],
   "source": []
  },
  {
   "cell_type": "code",
   "execution_count": null,
   "id": "092e0de9-2818-4526-b72c-cea6324b70c4",
   "metadata": {},
   "outputs": [],
   "source": []
  },
  {
   "cell_type": "code",
   "execution_count": null,
   "id": "513f1568-a2fc-4406-a5de-06d889b9adee",
   "metadata": {},
   "outputs": [],
   "source": []
  },
  {
   "cell_type": "code",
   "execution_count": null,
   "id": "31c3c61d-a18d-45a5-bf5c-820ea31230c0",
   "metadata": {},
   "outputs": [],
   "source": []
  },
  {
   "cell_type": "code",
   "execution_count": null,
   "id": "faf4279e-c452-44eb-87b8-458395f0530b",
   "metadata": {},
   "outputs": [],
   "source": []
  },
  {
   "cell_type": "code",
   "execution_count": null,
   "id": "4599ed15-d3e5-417d-8a5d-f155ed6852d1",
   "metadata": {},
   "outputs": [],
   "source": []
  },
  {
   "cell_type": "code",
   "execution_count": null,
   "id": "cdd2faf0-5e82-4e83-84da-2403333db648",
   "metadata": {},
   "outputs": [],
   "source": []
  },
  {
   "cell_type": "code",
   "execution_count": null,
   "id": "f8452178-be5f-4a8f-98f1-11ec9c097879",
   "metadata": {},
   "outputs": [],
   "source": []
  },
  {
   "cell_type": "code",
   "execution_count": null,
   "id": "a374e405-614f-446d-bdb4-037dbd1dcf3d",
   "metadata": {},
   "outputs": [],
   "source": []
  },
  {
   "cell_type": "code",
   "execution_count": null,
   "id": "f1ade189-c37d-46a8-b565-59d92566a725",
   "metadata": {},
   "outputs": [],
   "source": []
  },
  {
   "cell_type": "code",
   "execution_count": null,
   "id": "f1ee1827-5a52-46b0-b136-40b9d8fb2600",
   "metadata": {},
   "outputs": [],
   "source": []
  },
  {
   "cell_type": "code",
   "execution_count": 75,
   "id": "a59c3a43-e5b2-42af-ba76-5e12424c2591",
   "metadata": {},
   "outputs": [],
   "source": [
    "import pyarrow.parquet as pq\n",
    "\n",
    "df1 = pq.read_table('C:/Users/tnfus/Downloads/open/test/1.회원정보/201812_test_회원정보.parquet').to_pandas()\n",
    "df2 = pq.read_table('C:/Users/tnfus/Downloads/open/test/2.신용정보/201812_test_신용정보.parquet').to_pandas()\n",
    "df3 = pq.read_table('C:/Users/tnfus/Downloads/open/test/3.승인매출정보/201812_test_승인매출정보.parquet').to_pandas()\n",
    "df4 = pq.read_table('C:/Users/tnfus/Downloads/open/test/4.청구입금정보/201812_test_청구정보.parquet').to_pandas()\n",
    "df6 = pq.read_table('C:/Users/tnfus/Downloads/open/test/6.채널정보/201812_test_채널정보.parquet').to_pandas()\n",
    "df7 = pq.read_table('C:/Users/tnfus/Downloads/open/test/7.마케팅정보/201812_test_마케팅정보.parquet').to_pandas()\n",
    "df8 = pq.read_table('C:/Users/tnfus/Downloads/open/test/8.성과정보/201812_test_성과정보.parquet').to_pandas()"
   ]
  },
  {
   "cell_type": "code",
   "execution_count": 76,
   "id": "1b7d87df-d598-43a4-afcf-d3c154a9282c",
   "metadata": {},
   "outputs": [],
   "source": [
    "df1.columns = df1.columns.str.strip()\n",
    "df2.columns = df2.columns.str.strip()\n",
    "df3.columns = df3.columns.str.strip()\n",
    "df4.columns = df4.columns.str.strip()\n",
    "df6.columns = df6.columns.str.strip()\n",
    "df7.columns = df7.columns.str.strip()\n",
    "df8.columns = df8.columns.str.strip()\n"
   ]
  },
  {
   "cell_type": "code",
   "execution_count": 77,
   "id": "962541e2-a355-435c-86cf-e9b39e04b172",
   "metadata": {},
   "outputs": [],
   "source": [
    "df1 = df1[['ID','_1순위카드이용금액', '이용카드수_신용_가족', '이용금액_R3M_신용체크', '회원여부_이용가능_카드론', '유효카드수_신용', \n",
    "           '동의여부_한도증액안내', '입회일자_신용', '이용거절여부_카드론', '거주시도명', '유효카드수_체크', '_2순위신용체크구분', \n",
    "           '소지카드수_이용가능_신용', '이용카드수_체크', '수신거부여부_DM', '최종탈회후경과월', '입회경과개월수_신용', '이용금액_R3M_신용', \n",
    "           '이용가능카드수_신용', '이용가능카드수_체크', '_2순위카드이용건수', '마케팅동의여부', '연령', '소지카드수_유효_신용', '수신거부여부_메일', \n",
    "           '카드신청건수', '남녀구분코드', '유효카드수_신용_가족', '가입통신회사코드', 'Life_Stage', '이용여부_3M_해외겸용_신용_본인', \n",
    "           '보유여부_해외겸용_본인']]\n",
    "df2 = df2[['ID','CA한도금액', 'RV전환가능여부', '카드이용한도금액', '상향가능CA한도금액', '카드이용한도금액_B1M', \n",
    "           '카드이용한도금액_B2M', '강제한도감액금액_R12M', '일시불ONLY전환가능여부', '한도증액금액_R12M', 'RV신청일자', '한도증액횟수_R12M', \n",
    "           '강제한도감액횟수_R12M', 'CA이자율_할인전', 'RV현금서비스이자율_할인전', 'RV약정청구율', '월상환론한도금액', 'rv최초시작후경과일', \n",
    "           'RV일시불이자율_할인전', '상향가능한도금액', 'ID', 'RV최소결제비율', '강제한도감액후경과월', '최초한도금액', '월상환론상향가능한도금액', \n",
    "           '카드론동의여부']]\n",
    "df3 = df3[['ID','이용금액_할부_무이자_B0M', '건수_할부전환_R6M', '이용금액_할부_무이자_R12M', '정상입금원금_B5M', '이용건수_선결제_R3M', \n",
    "           '이용건수_할부_유이자_R6M', '정상청구원금_B5M', '이용개월수_결제일_R6M', '이용건수_부분무이자_R3M', '여유_항공이용금액', \n",
    "           '이용금액_페이_온라인_B0M', '정상입금원금_B2M', '이용건수_선결제_R6M', '할부건수_무이자_3M_R12M']]\n",
    "df4 = df4[['ID','마일_이용포인트_R12M', '청구금액_R6M', '선결제건수_R6M', '청구금액_R3M', '포인트_마일리지_건별_B0M', '상환개월수_결제일_R6M', \n",
    "           '마일_적립포인트_R3M', '포인트_마일리지_월적립_R3M', '마일_잔여포인트_B0M', '포인트_적립포인트_R3M', '대표결제일', \n",
    "           '포인트_마일리지_월적립_B0M', '청구금액_B0', '마일_적립포인트_R12M', '할인건수_R3M', '포인트_이용포인트_R12M', \n",
    "           '대표청구서수령지구분코드', '할인금액_B0M', '할인금액_R3M', '연체건수_R3M', '상환개월수_결제일_R3M', '혜택수혜금액', \n",
    "           '할인금액_청구서_B0M', '선결제건수_R3M', '대표청구지고객주소구분코드', '포인트_포인트_건별_R3M', '포인트_적립포인트_R12M', \n",
    "           '마일_이용포인트_R3M']]\n",
    "df6 = df6[['ID','방문일수_모바일웹_R6M', '인입횟수_IB_B0M', '홈페이지_금융건수_R6M', '방문후경과월_PC_R6M', '방문일수_PC_B0M', 'IB문의건수_선결제_R6M', \n",
    "           'OS구분코드', '방문후경과월_앱_R6M', '불만제기후경과월_R12M', '이용메뉴건수_IB_B0M', '상담건수_B0M', '방문횟수_PC_R6M', \n",
    "           '방문일수_PC_R6M', '당사멤버쉽_방문월수_R6M', '당사멤버쉽_방문횟수_R6M', 'IB문의건수_카드발급_R6M', '방문월수_앱_R6M', 'IB문의건수_CA_R6M', \n",
    "           'IB문의건수_결제_R6M', 'IB문의건수_사용승인내역_R6M', '인입일수_IB_B0M', '방문월수_PC_R6M', '인입월수_IB_R6M', \n",
    "           '방문횟수_PC_B0M', '방문일수_앱_B0M', '인입후경과월_IB_R6M', '인입횟수_ARS_R6M', '인입월수_ARS_R6M', '상담건수_R6M', '방문횟수_모바일웹_R6M', \n",
    "           'IB문의건수_분실도난_R6M', 'IB문의건수_선결제_B0M', '홈페이지_금융건수_R3M', '인입일수_ARS_B0M']]\n",
    "df7 = df7[['ID','컨택건수_보험_TM_B0M', '컨택건수_보험_TM_R6M', '컨택건수_이용유도_청구서_B0M', '컨택건수_이용유도_인터넷_B0M', \n",
    "           '컨택건수_이용유도_EM_R6M', '컨택건수_이용유도_EM_B0M', '컨택건수_이용유도_LMS_B0M', '컨택건수_이용유도_LMS_R6M', \n",
    "           '컨택건수_카드론_TM_R6M', '컨택건수_이용유도_TM_R6M', '컨택건수_이용유도_인터넷_R6M', '캠페인접촉일수_R12M', '컨택건수_카드론_EM_R6M', \n",
    "           '컨택건수_이용유도_청구서_R6M', '캠페인접촉건수_R12M', '컨택건수_채권_R6M', '컨택건수_CA_청구서_R6M']]\n",
    "df8 = df8[['ID','잔액_신판ca최대한도소진율_r6m', '증감율_이용건수_할부_전월', '잔액_신판ca평균한도소진율_r3m', '변동률_잔액_CA_B1M', \n",
    "           '증감율_이용금액_신판_분기', '잔액_신판ca최대한도소진율_r3m', '증감율_이용금액_일시불_전월', '변동률_RV일시불평잔', '변동률_일시불평잔', \n",
    "           '혜택수혜율_B0M', '증감율_이용금액_할부_분기', '증감율_이용건수_할부_분기', '증감율_이용건수_체크_분기', '증감율_이용금액_신판_전월', \n",
    "            '증감율_이용금액_CA_분기', '증감율_이용금액_할부_전월', '잔액_신판평균한도소진율_r6m', '증감율_이용건수_CA_전월', '혜택수혜율_R3M', \n",
    "           '잔액_신판평균한도소진율_r3m', '증감율_이용금액_체크_분기', '증감율_이용건수_신판_분기', '증감율_이용금액_체크_전월', \n",
    "           '잔액_신판최대한도소진율_r3m', '잔액_신판ca평균한도소진율_r6m', '증감율_이용금액_신용_분기', '증감율_이용건수_CA_분기', '변동률_잔액_B1M', \n",
    "           '변동률_CA평잔', '증감율_이용건수_체크_전월', '증감율_이용금액_카드론_분기', '증감율_이용건수_신용_분기', '증감율_이용건수_일시불_분기',\n",
    "           '증감율_이용금액_CA_전월']]"
   ]
  },
  {
   "cell_type": "code",
   "execution_count": 78,
   "id": "418d1278-ad1c-4a8c-9091-245ff5b26165",
   "metadata": {},
   "outputs": [
    {
     "name": "stdout",
     "output_type": "stream",
     "text": [
      "df1 컬럼 목록: Index(['ID', '_1순위카드이용금액', '이용카드수_신용_가족', '이용금액_R3M_신용체크', '회원여부_이용가능_카드론',\n",
      "       '유효카드수_신용', '동의여부_한도증액안내', '입회일자_신용', '이용거절여부_카드론', '거주시도명', '유효카드수_체크',\n",
      "       '_2순위신용체크구분', '소지카드수_이용가능_신용', '이용카드수_체크', '수신거부여부_DM', '최종탈회후경과월',\n",
      "       '입회경과개월수_신용', '이용금액_R3M_신용', '이용가능카드수_신용', '이용가능카드수_체크', '_2순위카드이용건수',\n",
      "       '마케팅동의여부', '연령', '소지카드수_유효_신용', '수신거부여부_메일', '카드신청건수', '남녀구분코드',\n",
      "       '유효카드수_신용_가족', '가입통신회사코드', 'Life_Stage', '이용여부_3M_해외겸용_신용_본인',\n",
      "       '보유여부_해외겸용_본인'],\n",
      "      dtype='object')\n",
      "df2 컬럼 목록: Index(['ID', 'CA한도금액', 'RV전환가능여부', '카드이용한도금액', '상향가능CA한도금액', '카드이용한도금액_B1M',\n",
      "       '카드이용한도금액_B2M', '강제한도감액금액_R12M', '일시불ONLY전환가능여부', '한도증액금액_R12M',\n",
      "       'RV신청일자', '한도증액횟수_R12M', '강제한도감액횟수_R12M', 'CA이자율_할인전', 'RV현금서비스이자율_할인전',\n",
      "       'RV약정청구율', '월상환론한도금액', 'rv최초시작후경과일', 'RV일시불이자율_할인전', '상향가능한도금액', 'ID',\n",
      "       'RV최소결제비율', '강제한도감액후경과월', '최초한도금액', '월상환론상향가능한도금액', '카드론동의여부'],\n",
      "      dtype='object')\n",
      "df3 컬럼 목록: Index(['ID', '이용금액_할부_무이자_B0M', '건수_할부전환_R6M', '이용금액_할부_무이자_R12M',\n",
      "       '정상입금원금_B5M', '이용건수_선결제_R3M', '이용건수_할부_유이자_R6M', '정상청구원금_B5M',\n",
      "       '이용개월수_결제일_R6M', '이용건수_부분무이자_R3M', '여유_항공이용금액', '이용금액_페이_온라인_B0M',\n",
      "       '정상입금원금_B2M', '이용건수_선결제_R6M', '할부건수_무이자_3M_R12M'],\n",
      "      dtype='object')\n",
      "df4 컬럼 목록: Index(['ID', '마일_이용포인트_R12M', '청구금액_R6M', '선결제건수_R6M', '청구금액_R3M',\n",
      "       '포인트_마일리지_건별_B0M', '상환개월수_결제일_R6M', '마일_적립포인트_R3M', '포인트_마일리지_월적립_R3M',\n",
      "       '마일_잔여포인트_B0M', '포인트_적립포인트_R3M', '대표결제일', '포인트_마일리지_월적립_B0M', '청구금액_B0',\n",
      "       '마일_적립포인트_R12M', '할인건수_R3M', '포인트_이용포인트_R12M', '대표청구서수령지구분코드',\n",
      "       '할인금액_B0M', '할인금액_R3M', '연체건수_R3M', '상환개월수_결제일_R3M', '혜택수혜금액',\n",
      "       '할인금액_청구서_B0M', '선결제건수_R3M', '대표청구지고객주소구분코드', '포인트_포인트_건별_R3M',\n",
      "       '포인트_적립포인트_R12M', '마일_이용포인트_R3M'],\n",
      "      dtype='object')\n",
      "df5 컬럼 목록: Index(['ID', '방문일수_모바일웹_R6M', '인입횟수_IB_B0M', '홈페이지_금융건수_R6M', '방문후경과월_PC_R6M',\n",
      "       '방문일수_PC_B0M', 'IB문의건수_선결제_R6M', 'OS구분코드', '방문후경과월_앱_R6M',\n",
      "       '불만제기후경과월_R12M', '이용메뉴건수_IB_B0M', '상담건수_B0M', '방문횟수_PC_R6M',\n",
      "       '방문일수_PC_R6M', '당사멤버쉽_방문월수_R6M', '당사멤버쉽_방문횟수_R6M', 'IB문의건수_카드발급_R6M',\n",
      "       '방문월수_앱_R6M', 'IB문의건수_CA_R6M', 'IB문의건수_결제_R6M', 'IB문의건수_사용승인내역_R6M',\n",
      "       '인입일수_IB_B0M', '방문월수_PC_R6M', '인입월수_IB_R6M', '방문횟수_PC_B0M',\n",
      "       '방문일수_앱_B0M', '인입후경과월_IB_R6M', '인입횟수_ARS_R6M', '인입월수_ARS_R6M',\n",
      "       '상담건수_R6M', '방문횟수_모바일웹_R6M', 'IB문의건수_분실도난_R6M', 'IB문의건수_선결제_B0M',\n",
      "       '홈페이지_금융건수_R3M', '인입일수_ARS_B0M'],\n",
      "      dtype='object')\n",
      "df6 컬럼 목록: Index(['ID', '컨택건수_보험_TM_B0M', '컨택건수_보험_TM_R6M', '컨택건수_이용유도_청구서_B0M',\n",
      "       '컨택건수_이용유도_인터넷_B0M', '컨택건수_이용유도_EM_R6M', '컨택건수_이용유도_EM_B0M',\n",
      "       '컨택건수_이용유도_LMS_B0M', '컨택건수_이용유도_LMS_R6M', '컨택건수_카드론_TM_R6M',\n",
      "       '컨택건수_이용유도_TM_R6M', '컨택건수_이용유도_인터넷_R6M', '캠페인접촉일수_R12M',\n",
      "       '컨택건수_카드론_EM_R6M', '컨택건수_이용유도_청구서_R6M', '캠페인접촉건수_R12M', '컨택건수_채권_R6M',\n",
      "       '컨택건수_CA_청구서_R6M'],\n",
      "      dtype='object')\n"
     ]
    }
   ],
   "source": [
    "# 각 데이터프레임에서 'ID' 중복 확인\n",
    "for i, df in enumerate([df1, df2, df3, df4, df6, df7], start=1):\n",
    "    print(f\"df{i} 컬럼 목록: {df.columns}\")\n",
    "\n",
    "# 중복된 'ID' 열 제거 (첫 번째 'ID'만 남김)\n",
    "def remove_duplicate_id(df):\n",
    "    if df.columns.duplicated().sum() > 0:  # 중복 컬럼이 있는 경우\n",
    "        df = df.loc[:, ~df.columns.duplicated()]\n",
    "    return df\n",
    "\n",
    "# 중복 'ID' 컬럼 제거 적용\n",
    "df1 = remove_duplicate_id(df1)\n",
    "df2 = remove_duplicate_id(df2)\n",
    "df3 = remove_duplicate_id(df3)\n",
    "df4 = remove_duplicate_id(df4)\n",
    "df6 = remove_duplicate_id(df6)\n",
    "df7 = remove_duplicate_id(df7)\n",
    "\n",
    "# 병합\n",
    "df12 = pd.merge(df1, df2, on='ID', how='outer')\n",
    "df34 = pd.merge(df3, df4, on='ID', how='outer')\n",
    "df67 = pd.merge(df6, df7, on='ID', how='outer')"
   ]
  },
  {
   "cell_type": "code",
   "execution_count": 79,
   "id": "b58bfe4a-78fb-418e-a1ae-4ac3ce48b63f",
   "metadata": {},
   "outputs": [],
   "source": [
    "df1234 = pd.merge(df12, df34, on='ID', how='outer')\n",
    "df678 = pd.merge(df67, df8, on='ID', how='outer')"
   ]
  },
  {
   "cell_type": "code",
   "execution_count": null,
   "id": "482a54e2-9b90-4031-a55c-1a7bb2c102aa",
   "metadata": {},
   "outputs": [],
   "source": []
  },
  {
   "cell_type": "code",
   "execution_count": null,
   "id": "904e7a80-bd68-4f30-9a71-e8d4304a0516",
   "metadata": {},
   "outputs": [],
   "source": []
  },
  {
   "cell_type": "code",
   "execution_count": null,
   "id": "57faf783-6e8b-4462-b324-590c7310d988",
   "metadata": {},
   "outputs": [],
   "source": []
  },
  {
   "cell_type": "code",
   "execution_count": null,
   "id": "a3e9d056-6a67-458c-af35-ba6eb5ff67b5",
   "metadata": {},
   "outputs": [],
   "source": []
  },
  {
   "cell_type": "code",
   "execution_count": null,
   "id": "823eceff-f642-4019-b03b-58a0d29e960d",
   "metadata": {},
   "outputs": [],
   "source": []
  },
  {
   "cell_type": "code",
   "execution_count": 80,
   "id": "3468c86b-0d05-491a-8e75-a33469cdb390",
   "metadata": {},
   "outputs": [],
   "source": [
    "df_1812 = pd.merge(df1234, df678, on='ID', how='outer')"
   ]
  },
  {
   "cell_type": "code",
   "execution_count": 81,
   "id": "d777b232-faf6-494e-8167-78aedcfbd5a7",
   "metadata": {},
   "outputs": [],
   "source": [
    "df_1812.to_csv('C:/Users/tnfus/Downloads/open/test/201812_test_정보_merged.csv', index=False, encoding='euc-kr')"
   ]
  },
  {
   "cell_type": "code",
   "execution_count": 83,
   "id": "c1bee28d-856a-4b06-9bf0-0d0bb18b5deb",
   "metadata": {},
   "outputs": [],
   "source": [
    "df1 = pd.read_csv('C:/Users/tnfus/Downloads/open/test/201807_test_정보_merged.csv', encoding='euc-kr')\n",
    "df2 = pd.read_csv('C:/Users/tnfus/Downloads/open/test/201808_test_정보_merged.csv', encoding='euc-kr')\n",
    "df3 = pd.read_csv('C:/Users/tnfus/Downloads/open/test/201809_test_정보_merged.csv', encoding='euc-kr')\n",
    "df4 = pd.read_csv('C:/Users/tnfus/Downloads/open/test/201810_test_정보_merged.csv', encoding='euc-kr')\n",
    "df5 = pd.read_csv('C:/Users/tnfus/Downloads/open/test/201811_test_정보_merged.csv', encoding='euc-kr')\n",
    "df6 = pd.read_csv('C:/Users/tnfus/Downloads/open/test/201812_test_정보_merged.csv', encoding='euc-kr')"
   ]
  },
  {
   "cell_type": "code",
   "execution_count": 84,
   "id": "44e1899f-eda8-4ea4-ae9d-08855ba6975a",
   "metadata": {},
   "outputs": [],
   "source": [
    "df11 = df1.loc[:, df1.isnull().sum() == 0]\n",
    "df21 = df2.loc[:, df2.isnull().sum() == 0]\n",
    "df31 = df3.loc[:, df3.isnull().sum() == 0]\n",
    "df41 = df4.loc[:, df4.isnull().sum() == 0]\n",
    "df51 = df5.loc[:, df5.isnull().sum() == 0]\n",
    "df61 = df6.loc[:, df6.isnull().sum() == 0]"
   ]
  },
  {
   "cell_type": "code",
   "execution_count": 85,
   "id": "2df33ec4-c92c-4389-8e56-6bf6e7cb5c89",
   "metadata": {},
   "outputs": [],
   "source": [
    "# 1. 각 데이터프레임의 열 이름을 set으로 변환\n",
    "cols1 = set(df11.columns)\n",
    "cols2 = set(df21.columns)\n",
    "cols3 = set(df31.columns)\n",
    "cols4 = set(df41.columns)\n",
    "cols5 = set(df51.columns)\n",
    "cols6 = set(df61.columns)\n",
    "\n",
    "# 2. 교집합 구하기 (6개에 다 있는 열)\n",
    "common_columns = cols1 & cols2 & cols3 & cols4 & cols5 & cols6\n",
    "\n",
    "# 3. 공통 열만 포함한 DataFrame 만들기\n",
    "df11_common = df11[list(common_columns)]\n",
    "df21_common = df21[list(common_columns)]\n",
    "df31_common = df31[list(common_columns)]\n",
    "df41_common = df41[list(common_columns)]\n",
    "df51_common = df51[list(common_columns)]\n",
    "df61_common = df61[list(common_columns)]"
   ]
  },
  {
   "cell_type": "code",
   "execution_count": 86,
   "id": "91a49a89-9c3e-4247-8acd-0b600b2b7d5f",
   "metadata": {},
   "outputs": [],
   "source": [
    "df7 = df11_common\n",
    "df8 = df21_common\n",
    "df9 = df31_common\n",
    "df10 = df41_common\n",
    "df11 = df51_common\n",
    "df12 = df61_common"
   ]
  },
  {
   "cell_type": "code",
   "execution_count": 87,
   "id": "78ec8201-73f8-419b-81e9-bfd56037bfb5",
   "metadata": {},
   "outputs": [],
   "source": [
    "import pandas as pd\n",
    "\n",
    "# 1. 6개월치 데이터 결합\n",
    "full_df = pd.concat([df11, df21, df31, df41, df51, df61], ignore_index=True)\n",
    "\n",
    "# 2. 사용할 변수 리스트 (7월 분석 기준 중요 변수)\n",
    "selected_vars = [\n",
    "    '할부건수_무이자_3M_R12M', '카드이용한도금액', '정상청구원금_B5M', '카드이용한도금액_B1M',\n",
    "    'IB문의건수_카드발급_R6M', '방문후경과월_PC_R6M', '변동률_RV일시불평잔', '증감율_이용금액_체크_전월',\n",
    "    '여유_항공이용금액', '이용금액_할부_무이자_R12M', '이용카드수_체크', '마일_적립포인트_R12M',\n",
    "    '카드이용한도금액_B2M', '강제한도감액횟수_R12M', '이용가능카드수_체크', '잔액_신판ca최대한도소진율_r3m',\n",
    "    '청구금액_R6M', '입회일자_신용', '유효카드수_신용'\n",
    "]\n",
    "\n",
    "# 3. 실제로 존재하는 컬럼만 필터링 (혹시 누락된 게 있을 수도 있으니까 안전하게)\n",
    "existing_vars = [col for col in selected_vars if col in full_df.columns]\n",
    "\n",
    "# 4. ID 기준 그룹화\n",
    "grouped = full_df.groupby('ID')\n",
    "\n",
    "# 5. 선택된 변수에 대해서만 통계 계산\n",
    "agg_mean = grouped[existing_vars].mean().add_suffix('_mean')\n",
    "agg_std  = grouped[existing_vars].std().add_suffix('_std')\n",
    "agg_last = grouped[existing_vars].last().add_suffix('_last')\n",
    "\n",
    "# 6. 최종 고객 요약 데이터 생성\n",
    "customer_summary = pd.concat([agg_mean, agg_std, agg_last], axis=1).reset_index()"
   ]
  },
  {
   "cell_type": "code",
   "execution_count": 88,
   "id": "7777ea10-b758-466c-9453-738ab50a384e",
   "metadata": {},
   "outputs": [],
   "source": [
    "customer_summary.to_csv('C:/Users/tnfus/Downloads/open/test/2018_test_정보_merged_1.csv', index = False, encoding='euc-kr')"
   ]
  },
  {
   "cell_type": "code",
   "execution_count": 102,
   "id": "9ecdadda-853b-45c4-905e-969c5e98d758",
   "metadata": {},
   "outputs": [],
   "source": [
    "merged_df = customer_summary"
   ]
  },
  {
   "cell_type": "code",
   "execution_count": 90,
   "id": "8e85affc-5801-4293-9d96-a47b4e6fe0ff",
   "metadata": {},
   "outputs": [
    {
     "name": "stdout",
     "output_type": "stream",
     "text": [
      "['ID', '할부건수_무이자_3M_R12M_mean', '카드이용한도금액_mean', '정상청구원금_B5M_mean', '카드이용한도금액_B1M_mean', 'IB문의건수_카드발급_R6M_mean', '방문후경과월_PC_R6M_mean', '변동률_RV일시불평잔_mean', '증감율_이용금액_체크_전월_mean', '여유_항공이용금액_mean', '이용금액_할부_무이자_R12M_mean', '이용카드수_체크_mean', '마일_적립포인트_R12M_mean', '카드이용한도금액_B2M_mean', '강제한도감액횟수_R12M_mean', '이용가능카드수_체크_mean', '잔액_신판ca최대한도소진율_r3m_mean', '청구금액_R6M_mean', '입회일자_신용_mean', '유효카드수_신용_mean', '할부건수_무이자_3M_R12M_std', '카드이용한도금액_std', '정상청구원금_B5M_std', '카드이용한도금액_B1M_std', 'IB문의건수_카드발급_R6M_std', '방문후경과월_PC_R6M_std', '변동률_RV일시불평잔_std', '증감율_이용금액_체크_전월_std', '여유_항공이용금액_std', '이용금액_할부_무이자_R12M_std', '이용카드수_체크_std', '마일_적립포인트_R12M_std', '카드이용한도금액_B2M_std', '강제한도감액횟수_R12M_std', '이용가능카드수_체크_std', '잔액_신판ca최대한도소진율_r3m_std', '청구금액_R6M_std', '입회일자_신용_std', '유효카드수_신용_std', '할부건수_무이자_3M_R12M_last', '카드이용한도금액_last', '정상청구원금_B5M_last', '카드이용한도금액_B1M_last', 'IB문의건수_카드발급_R6M_last', '방문후경과월_PC_R6M_last', '변동률_RV일시불평잔_last', '증감율_이용금액_체크_전월_last', '여유_항공이용금액_last', '이용금액_할부_무이자_R12M_last', '이용카드수_체크_last', '마일_적립포인트_R12M_last', '카드이용한도금액_B2M_last', '강제한도감액횟수_R12M_last', '이용가능카드수_체크_last', '잔액_신판ca최대한도소진율_r3m_last', '청구금액_R6M_last', '입회일자_신용_last', '유효카드수_신용_last']\n"
     ]
    }
   ],
   "source": [
    "# pandas 옵션 변경해서 열 모두 출력되도록 설정\n",
    "pd.set_option('display.max_columns', None)\n",
    "\n",
    "# 그리고 컬럼 출력\n",
    "print(merged_df.columns.tolist())  # 또는 df.columns.values\n",
    "\n",
    "pd.reset_option('display.max_columns')"
   ]
  },
  {
   "cell_type": "code",
   "execution_count": 92,
   "id": "5a49e0d1-8294-4093-b7b2-21adea2d8aaa",
   "metadata": {},
   "outputs": [],
   "source": [
    "df111 = pd.read_csv('C:/Users/tnfus/Downloads/open/test/201807_test_정보_merged.csv', encoding='euc-kr')"
   ]
  },
  {
   "cell_type": "code",
   "execution_count": 93,
   "id": "147625df-0289-4a69-812f-33d7687befae",
   "metadata": {},
   "outputs": [
    {
     "data": {
      "text/plain": [
       "Index(['ID', '_1순위카드이용금액', '이용카드수_신용_가족', '이용금액_R3M_신용체크', '회원여부_이용가능_카드론',\n",
       "       '유효카드수_신용', '동의여부_한도증액안내', '입회일자_신용', '이용거절여부_카드론', '거주시도명',\n",
       "       ...\n",
       "       '잔액_신판ca평균한도소진율_r6m', '증감율_이용금액_신용_분기', '증감율_이용건수_CA_분기', '변동률_잔액_B1M',\n",
       "       '변동률_CA평잔', '증감율_이용건수_체크_전월', '증감율_이용금액_카드론_분기', '증감율_이용건수_신용_분기',\n",
       "       '증감율_이용건수_일시불_분기', '증감율_이용금액_CA_전월'],\n",
       "      dtype='object', length=183)"
      ]
     },
     "execution_count": 93,
     "metadata": {},
     "output_type": "execute_result"
    }
   ],
   "source": [
    "df111.columns"
   ]
  },
  {
   "cell_type": "code",
   "execution_count": 103,
   "id": "f19d554b-62e3-44c4-93ab-aa34cef7080c",
   "metadata": {},
   "outputs": [],
   "source": [
    "df_selected = df111[['ID', '남녀구분코드', '연령']]"
   ]
  },
  {
   "cell_type": "code",
   "execution_count": 104,
   "id": "0b9c775a-fae5-411f-b9cc-191aae7f84b9",
   "metadata": {},
   "outputs": [
    {
     "data": {
      "text/html": [
       "<div>\n",
       "<style scoped>\n",
       "    .dataframe tbody tr th:only-of-type {\n",
       "        vertical-align: middle;\n",
       "    }\n",
       "\n",
       "    .dataframe tbody tr th {\n",
       "        vertical-align: top;\n",
       "    }\n",
       "\n",
       "    .dataframe thead th {\n",
       "        text-align: right;\n",
       "    }\n",
       "</style>\n",
       "<table border=\"1\" class=\"dataframe\">\n",
       "  <thead>\n",
       "    <tr style=\"text-align: right;\">\n",
       "      <th></th>\n",
       "      <th>ID</th>\n",
       "      <th>남녀구분코드</th>\n",
       "      <th>연령</th>\n",
       "    </tr>\n",
       "  </thead>\n",
       "  <tbody>\n",
       "    <tr>\n",
       "      <th>0</th>\n",
       "      <td>TEST_00000</td>\n",
       "      <td>1</td>\n",
       "      <td>40대</td>\n",
       "    </tr>\n",
       "    <tr>\n",
       "      <th>1</th>\n",
       "      <td>TEST_00001</td>\n",
       "      <td>1</td>\n",
       "      <td>60대</td>\n",
       "    </tr>\n",
       "    <tr>\n",
       "      <th>2</th>\n",
       "      <td>TEST_00002</td>\n",
       "      <td>1</td>\n",
       "      <td>40대</td>\n",
       "    </tr>\n",
       "    <tr>\n",
       "      <th>3</th>\n",
       "      <td>TEST_00003</td>\n",
       "      <td>2</td>\n",
       "      <td>40대</td>\n",
       "    </tr>\n",
       "    <tr>\n",
       "      <th>4</th>\n",
       "      <td>TEST_00004</td>\n",
       "      <td>2</td>\n",
       "      <td>40대</td>\n",
       "    </tr>\n",
       "    <tr>\n",
       "      <th>...</th>\n",
       "      <td>...</td>\n",
       "      <td>...</td>\n",
       "      <td>...</td>\n",
       "    </tr>\n",
       "    <tr>\n",
       "      <th>99995</th>\n",
       "      <td>TEST_99995</td>\n",
       "      <td>2</td>\n",
       "      <td>60대</td>\n",
       "    </tr>\n",
       "    <tr>\n",
       "      <th>99996</th>\n",
       "      <td>TEST_99996</td>\n",
       "      <td>1</td>\n",
       "      <td>30대</td>\n",
       "    </tr>\n",
       "    <tr>\n",
       "      <th>99997</th>\n",
       "      <td>TEST_99997</td>\n",
       "      <td>2</td>\n",
       "      <td>30대</td>\n",
       "    </tr>\n",
       "    <tr>\n",
       "      <th>99998</th>\n",
       "      <td>TEST_99998</td>\n",
       "      <td>1</td>\n",
       "      <td>30대</td>\n",
       "    </tr>\n",
       "    <tr>\n",
       "      <th>99999</th>\n",
       "      <td>TEST_99999</td>\n",
       "      <td>1</td>\n",
       "      <td>30대</td>\n",
       "    </tr>\n",
       "  </tbody>\n",
       "</table>\n",
       "<p>100000 rows × 3 columns</p>\n",
       "</div>"
      ],
      "text/plain": [
       "               ID  남녀구분코드   연령\n",
       "0      TEST_00000       1  40대\n",
       "1      TEST_00001       1  60대\n",
       "2      TEST_00002       1  40대\n",
       "3      TEST_00003       2  40대\n",
       "4      TEST_00004       2  40대\n",
       "...           ...     ...  ...\n",
       "99995  TEST_99995       2  60대\n",
       "99996  TEST_99996       1  30대\n",
       "99997  TEST_99997       2  30대\n",
       "99998  TEST_99998       1  30대\n",
       "99999  TEST_99999       1  30대\n",
       "\n",
       "[100000 rows x 3 columns]"
      ]
     },
     "execution_count": 104,
     "metadata": {},
     "output_type": "execute_result"
    }
   ],
   "source": [
    "df_selected"
   ]
  },
  {
   "cell_type": "code",
   "execution_count": 131,
   "id": "101762a8-c502-46d6-887f-c5a27197ad7d",
   "metadata": {},
   "outputs": [],
   "source": [
    "merged_df1 = pd.merge(df_selected, merged_df1, on='ID', how='outer')"
   ]
  },
  {
   "cell_type": "code",
   "execution_count": 132,
   "id": "073af8d7-6fbe-486e-87a4-f0407a527443",
   "metadata": {},
   "outputs": [
    {
     "name": "stdout",
     "output_type": "stream",
     "text": [
      "['ID', '남녀구분코드', '연령', '할부건수_무이자_3M_R12M_mean', '카드이용한도금액_mean', '정상청구원금_B5M_mean', '카드이용한도금액_B1M_mean', 'IB문의건수_카드발급_R6M_mean', '방문후경과월_PC_R6M_mean', '변동률_RV일시불평잔_mean', '증감율_이용금액_체크_전월_mean', '여유_항공이용금액_mean', '이용금액_할부_무이자_R12M_mean', '이용카드수_체크_mean', '마일_적립포인트_R12M_mean', '카드이용한도금액_B2M_mean', '강제한도감액횟수_R12M_mean', '이용가능카드수_체크_mean', '잔액_신판ca최대한도소진율_r3m_mean', '청구금액_R6M_mean', '입회일자_신용_mean', '유효카드수_신용_mean', '할부건수_무이자_3M_R12M_std', '카드이용한도금액_std', '정상청구원금_B5M_std', '카드이용한도금액_B1M_std', 'IB문의건수_카드발급_R6M_std', '방문후경과월_PC_R6M_std', '변동률_RV일시불평잔_std', '증감율_이용금액_체크_전월_std', '여유_항공이용금액_std', '이용금액_할부_무이자_R12M_std', '이용카드수_체크_std', '마일_적립포인트_R12M_std', '카드이용한도금액_B2M_std', '강제한도감액횟수_R12M_std', '이용가능카드수_체크_std', '잔액_신판ca최대한도소진율_r3m_std', '청구금액_R6M_std', '입회일자_신용_std', '유효카드수_신용_std', '할부건수_무이자_3M_R12M_last', '카드이용한도금액_last', '정상청구원금_B5M_last', '카드이용한도금액_B1M_last', 'IB문의건수_카드발급_R6M_last', '방문후경과월_PC_R6M_last', '변동률_RV일시불평잔_last', '증감율_이용금액_체크_전월_last', '여유_항공이용금액_last', '이용금액_할부_무이자_R12M_last', '이용카드수_체크_last', '마일_적립포인트_R12M_last', '카드이용한도금액_B2M_last', '강제한도감액횟수_R12M_last', '이용가능카드수_체크_last', '잔액_신판ca최대한도소진율_r3m_last', '청구금액_R6M_last', '입회일자_신용_last', '유효카드수_신용_last']\n"
     ]
    }
   ],
   "source": [
    "# pandas 옵션 변경해서 열 모두 출력되도록 설정\n",
    "pd.set_option('display.max_columns', None)\n",
    "\n",
    "# 그리고 컬럼 출력\n",
    "print(merged_df1.columns.tolist())  # 또는 df.columns.values\n",
    "\n",
    "pd.reset_option('display.max_columns')"
   ]
  },
  {
   "cell_type": "code",
   "execution_count": 120,
   "id": "4b4b5a2c-221b-4f34-a73a-d4e67da46316",
   "metadata": {},
   "outputs": [],
   "source": [
    "merged_df1.to_csv('C:/Users/tnfus/Downloads/open/test/2018_test_정보_segment.csv', encoding='euc-kr')"
   ]
  },
  {
   "cell_type": "code",
   "execution_count": 135,
   "id": "995aa11f-e373-4717-a354-6323e3615906",
   "metadata": {},
   "outputs": [
    {
     "name": "stderr",
     "output_type": "stream",
     "text": [
      "C:\\Users\\tnfus\\AppData\\Local\\Programs\\Python\\Python313\\Lib\\site-packages\\xgboost\\training.py:183: UserWarning: [11:57:07] WARNING: C:\\actions-runner\\_work\\xgboost\\xgboost\\src\\learner.cc:738: \n",
      "Parameters: { \"use_label_encoder\" } are not used.\n",
      "\n",
      "  bst.update(dtrain, iteration=i, fobj=obj)\n"
     ]
    },
    {
     "name": "stdout",
     "output_type": "stream",
     "text": [
      "\n",
      "[XGBoost 평가 결과 - 최적 하이퍼파라미터 적용 모델]\n",
      "정확도: 82.33%\n",
      "분류 보고서:\n",
      "              precision    recall  f1-score   support\n",
      "\n",
      "           A       0.39      0.34      0.37        32\n",
      "           B       0.00      0.00      0.00         5\n",
      "           C       0.60      0.68      0.64      4253\n",
      "           D       0.45      0.73      0.56     11642\n",
      "           E       0.96      0.85      0.90     64068\n",
      "\n",
      "    accuracy                           0.82     80000\n",
      "   macro avg       0.48      0.52      0.49     80000\n",
      "weighted avg       0.87      0.82      0.84     80000\n",
      "\n",
      "클래스별 F1-score:\n",
      "A: 0.3667\n",
      "B: 0.0000\n",
      "C: 0.6391\n",
      "D: 0.5582\n",
      "E: 0.9041\n"
     ]
    },
    {
     "data": {
      "image/png": "[encoded data removed]",
      "text/plain": [
       "<Figure size 1000x600 with 1 Axes>"
      ]
     },
     "metadata": {},
     "output_type": "display_data"
    },
    {
     "name": "stdout",
     "output_type": "stream",
     "text": [
      "✅ 모델 및 전처리 도구 저장 완료!\n",
      "✅ Segment 예측 완료 및 저장!\n"
     ]
    }
   ],
   "source": [
    "# =============================\n",
    "# 1. 학습 코드 + 저장\n",
    "# =============================\n",
    "\n",
    "from xgboost import XGBClassifier\n",
    "from sklearn.model_selection import train_test_split\n",
    "from sklearn.preprocessing import LabelEncoder, StandardScaler\n",
    "from sklearn.metrics import accuracy_score, classification_report, f1_score\n",
    "from imblearn.combine import SMOTEENN\n",
    "import pandas as pd\n",
    "import numpy as np\n",
    "import matplotlib.pyplot as plt\n",
    "import joblib\n",
    "\n",
    "# 1. 복사본 생성 + 결측치 제거\n",
    "df = merged_df.copy().dropna()\n",
    "\n",
    "# 불필요한 인덱스 열 제거\n",
    "if 'Unnamed: 0' in df.columns:\n",
    "    df = df.drop(columns=['Unnamed: 0'])\n",
    "\n",
    "# 연령 전처리: 앞 2글자만 추출해 숫자로 변환\n",
    "if '연령' in df.columns:\n",
    "    df['연령'] = df['연령'].astype(str).str[:2].astype(int)\n",
    "\n",
    "# 2. LabelEncoder: Segment A~E 포함 전체에 대해 인코딩\n",
    "label_encoder = LabelEncoder()\n",
    "df['Segment'] = label_encoder.fit_transform(df['Segment'])\n",
    "\n",
    "# 3. 범주형 변수 인코딩 ('남녀구분코드' 포함)\n",
    "categorical_cols = df.select_dtypes(include=['object', 'category']).columns.tolist()\n",
    "if '남녀구분코드' not in categorical_cols and '남녀구분코드' in df.columns:\n",
    "    categorical_cols.append('남녀구분코드')\n",
    "for col in categorical_cols:\n",
    "    df[col] = LabelEncoder().fit_transform(df[col].astype(str))\n",
    "\n",
    "# 4. X, y 분리\n",
    "X = df.drop(columns=['Segment'])\n",
    "y = df['Segment']\n",
    "\n",
    "# 5. 수치형 스케일링\n",
    "numerical_cols = X.select_dtypes(include=['int64', 'float64']).columns.tolist()\n",
    "scaler = StandardScaler(copy=False)\n",
    "X[numerical_cols] = scaler.fit_transform(X[numerical_cols])\n",
    "\n",
    "# 6. 훈련/테스트 분할\n",
    "X_train, X_test, y_train, y_test = train_test_split(\n",
    "    X, y, test_size=0.2, random_state=42, stratify=y\n",
    ")\n",
    "\n",
    "# 7. SMOTEENN 적용\n",
    "smote_enn = SMOTEENN(random_state=42)\n",
    "X_train_resampled, y_train_resampled = smote_enn.fit_resample(X_train, y_train)\n",
    "\n",
    "# 8. 최적 하이퍼파라미터로 모델 정의\n",
    "best_model = XGBClassifier(\n",
    "    random_state=42,\n",
    "    use_label_encoder=False,\n",
    "    eval_metric='mlogloss',\n",
    "    tree_method='hist',\n",
    "    colsample_bytree=1.0,\n",
    "    learning_rate=0.2,\n",
    "    max_depth=6,\n",
    "    n_estimators=200,\n",
    "    subsample=0.8\n",
    ")\n",
    "best_model.fit(X_train_resampled, y_train_resampled)\n",
    "\n",
    "# 9. 평가\n",
    "y_pred = best_model.predict(X_test)\n",
    "y_test_labels = label_encoder.inverse_transform(y_test)\n",
    "y_pred_labels = label_encoder.inverse_transform(y_pred)\n",
    "\n",
    "print(\"\\n[XGBoost 평가 결과 - 최적 하이퍼파라미터 적용 모델]\")\n",
    "print(f\"정확도: {accuracy_score(y_test_labels, y_pred_labels) * 100:.2f}%\")\n",
    "print(\"분류 보고서:\")\n",
    "print(classification_report(y_test_labels, y_pred_labels, zero_division=0))\n",
    "\n",
    "f1_per_class = f1_score(y_test_labels, y_pred_labels, average=None, zero_division=0)\n",
    "class_names = label_encoder.classes_\n",
    "print(\"클래스별 F1-score:\")\n",
    "for name, score in zip(class_names, f1_per_class):\n",
    "    print(f\"{name}: {score:.4f}\")\n",
    "\n",
    "# 10. 변수 중요도 시각화\n",
    "importances = best_model.feature_importances_\n",
    "feature_importance = pd.DataFrame({'Feature': X.columns, 'Importance': importances})\n",
    "feature_importance = feature_importance.sort_values(by='Importance', ascending=False)\n",
    "\n",
    "plt.figure(figsize=(10, 6))\n",
    "plt.barh(feature_importance['Feature'][:15], feature_importance['Importance'][:15])\n",
    "plt.xlabel('Importance')\n",
    "plt.ylabel('Feature')\n",
    "plt.title('Feature Importance (XGBoost - Best Params)')\n",
    "plt.gca().invert_yaxis()\n",
    "plt.tight_layout()\n",
    "plt.show()\n",
    "\n",
    "# 11. 객체 저장\n",
    "joblib.dump(scaler, 'scaler.pkl')\n",
    "joblib.dump(label_encoder, 'label_encoder.pkl')\n",
    "joblib.dump(best_model, 'xgb_best_model.pkl')\n",
    "joblib.dump(categorical_cols, 'categorical_cols.pkl')\n",
    "joblib.dump(numerical_cols, 'numerical_cols.pkl')\n",
    "print(\"✅ 모델 및 전처리 도구 저장 완료!\")\n",
    "\n",
    "# =============================\n",
    "# 2. 예측 코드 (test 데이터 사용)\n",
    "# =============================\n",
    "\n",
    "# 예측 대상: merged_df1에 Segment 없음 (빈 열 생성)\n",
    "df_predict = merged_df1.copy()\n",
    "df_predict['Segment'] = np.nan\n",
    "\n",
    "# 불필요한 인덱스 열 제거\n",
    "if 'Unnamed: 0' in df_predict.columns:\n",
    "    df_predict = df_predict.drop(columns=['Unnamed: 0'])\n",
    "\n",
    "# 연령 전처리\n",
    "if '연령' in df_predict.columns:\n",
    "    df_predict['연령'] = df_predict['연령'].astype(str).str[:2].astype(int)\n",
    "\n",
    "# 저장된 객체 불러오기\n",
    "scaler = joblib.load('scaler.pkl')\n",
    "label_encoder = joblib.load('label_encoder.pkl')\n",
    "best_model = joblib.load('xgb_best_model.pkl')\n",
    "categorical_cols = joblib.load('categorical_cols.pkl')\n",
    "numerical_cols = joblib.load('numerical_cols.pkl')\n",
    "\n",
    "# 실제 존재하는 열만 선택해서 전처리\n",
    "categorical_cols_exist = [col for col in categorical_cols if col in df_predict.columns]\n",
    "numerical_cols_exist = [col for col in numerical_cols if col in df_predict.columns]\n",
    "\n",
    "for col in categorical_cols_exist:\n",
    "    df_predict[col] = LabelEncoder().fit_transform(df_predict[col].astype(str))\n",
    "\n",
    "# 수치형 스케일링 (존재하는 열만)\n",
    "df_predict[numerical_cols_exist] = scaler.transform(df_predict[numerical_cols_exist])\n",
    "\n",
    "# 예측\n",
    "X_new = df_predict.drop(columns=['Segment'])\n",
    "pred_encoded = best_model.predict(X_new)\n",
    "pred_labels = label_encoder.inverse_transform(pred_encoded)\n",
    "\n",
    "# 결과 저장\n",
    "df_predict['Predicted_Segment'] = pred_labels\n",
    "df_predict.to_csv('C:/Users/tnfus/Downloads/open/test/2018_test_정보_segment.csv', index=False, encoding='euc-kr')\n",
    "print(\"✅ Segment 예측 완료 및 저장!\")\n",
    "\n",
    "\n"
   ]
  },
  {
   "cell_type": "code",
   "execution_count": 137,
   "id": "9e7ee5e5-d346-41e4-81a7-f763207ccdaf",
   "metadata": {},
   "outputs": [
    {
     "data": {
      "text/plain": [
       "Index(['ID', '남녀구분코드', '연령', '할부건수_무이자_3M_R12M_mean', '카드이용한도금액_mean',\n",
       "       '정상청구원금_B5M_mean', '카드이용한도금액_B1M_mean', 'IB문의건수_카드발급_R6M_mean',\n",
       "       '방문후경과월_PC_R6M_mean', '변동률_RV일시불평잔_mean', '증감율_이용금액_체크_전월_mean',\n",
       "       '여유_항공이용금액_mean', '이용금액_할부_무이자_R12M_mean', '이용카드수_체크_mean',\n",
       "       '마일_적립포인트_R12M_mean', '카드이용한도금액_B2M_mean', '강제한도감액횟수_R12M_mean',\n",
       "       '이용가능카드수_체크_mean', '잔액_신판ca최대한도소진율_r3m_mean', '청구금액_R6M_mean',\n",
       "       '입회일자_신용_mean', '유효카드수_신용_mean', '할부건수_무이자_3M_R12M_std', '카드이용한도금액_std',\n",
       "       '정상청구원금_B5M_std', '카드이용한도금액_B1M_std', 'IB문의건수_카드발급_R6M_std',\n",
       "       '방문후경과월_PC_R6M_std', '변동률_RV일시불평잔_std', '증감율_이용금액_체크_전월_std',\n",
       "       '여유_항공이용금액_std', '이용금액_할부_무이자_R12M_std', '이용카드수_체크_std',\n",
       "       '마일_적립포인트_R12M_std', '카드이용한도금액_B2M_std', '강제한도감액횟수_R12M_std',\n",
       "       '이용가능카드수_체크_std', '잔액_신판ca최대한도소진율_r3m_std', '청구금액_R6M_std',\n",
       "       '입회일자_신용_std', '유효카드수_신용_std', '할부건수_무이자_3M_R12M_last', '카드이용한도금액_last',\n",
       "       '정상청구원금_B5M_last', '카드이용한도금액_B1M_last', 'IB문의건수_카드발급_R6M_last',\n",
       "       '방문후경과월_PC_R6M_last', '변동률_RV일시불평잔_last', '증감율_이용금액_체크_전월_last',\n",
       "       '여유_항공이용금액_last', '이용금액_할부_무이자_R12M_last', '이용카드수_체크_last',\n",
       "       '마일_적립포인트_R12M_last', '카드이용한도금액_B2M_last', '강제한도감액횟수_R12M_last',\n",
       "       '이용가능카드수_체크_last', '잔액_신판ca최대한도소진율_r3m_last', '청구금액_R6M_last',\n",
       "       '입회일자_신용_last', '유효카드수_신용_last', 'Segment', 'Predicted_Segment'],\n",
       "      dtype='object')"
      ]
     },
     "execution_count": 137,
     "metadata": {},
     "output_type": "execute_result"
    }
   ],
   "source": [
    "df_predict.columns"
   ]
  },
  {
   "cell_type": "code",
   "execution_count": 139,
   "id": "12405673-f147-4ae9-9f6d-76a7835357e7",
   "metadata": {},
   "outputs": [],
   "source": [
    "df21 = df_predict['Predicted_Segment']"
   ]
  },
  {
   "cell_type": "code",
   "execution_count": 141,
   "id": "d5e47005-070d-4e5d-97b5-7ee7e3c63b2e",
   "metadata": {},
   "outputs": [],
   "source": [
    "df21.to_csv('C:/Users/tnfus/Downloads/open/test/2018_test_segment.csv', index=False, encoding='euc-kr')"
   ]
  },
  {
   "cell_type": "code",
   "execution_count": null,
   "id": "aeac1b2e-cb4f-4909-b355-865f576ec0cd",
   "metadata": {},
   "outputs": [],
   "source": []
  }
 ],
 "metadata": {
  "kernelspec": {
   "display_name": "Python 3 (ipykernel)",
   "language": "python",
   "name": "python3"
  },
  "language_info": {
   "codemirror_mode": {
    "name": "ipython",
    "version": 3
   },
   "file_extension": ".py",
   "mimetype": "text/x-python",
   "name": "python",
   "nbconvert_exporter": "python",
   "pygments_lexer": "ipython3",
   "version": "3.13.2"
  }
 },
 "nbformat": 4,
 "nbformat_minor": 5
}
